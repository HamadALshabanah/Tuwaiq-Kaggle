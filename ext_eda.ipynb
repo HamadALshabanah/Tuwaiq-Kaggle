{
 "cells": [
  {
   "cell_type": "code",
   "execution_count": 95,
   "metadata": {},
   "outputs": [],
   "source": [
    "import pandas as pd  "
   ]
  },
  {
   "cell_type": "markdown",
   "metadata": {},
   "source": [
    "# Data"
   ]
  },
  {
   "cell_type": "code",
   "execution_count": 96,
   "metadata": {},
   "outputs": [],
   "source": [
    "train_df = pd.read_csv(\"./Dataset/train.csv\")\n",
    "test_df = pd.read_csv(\"./Dataset/test.csv\")"
   ]
  },
  {
   "cell_type": "code",
   "execution_count": 97,
   "metadata": {},
   "outputs": [],
   "source": [
    "train_df_c = train_df.copy()\n",
    "test_df_c = test_df.copy()"
   ]
  },
  {
   "cell_type": "code",
   "execution_count": 98,
   "metadata": {},
   "outputs": [
    {
     "data": {
      "text/html": [
       "<div>\n",
       "<style scoped>\n",
       "    .dataframe tbody tr th:only-of-type {\n",
       "        vertical-align: middle;\n",
       "    }\n",
       "\n",
       "    .dataframe tbody tr th {\n",
       "        vertical-align: top;\n",
       "    }\n",
       "\n",
       "    .dataframe thead th {\n",
       "        text-align: right;\n",
       "    }\n",
       "</style>\n",
       "<table border=\"1\" class=\"dataframe\">\n",
       "  <thead>\n",
       "    <tr style=\"text-align: right;\">\n",
       "      <th></th>\n",
       "      <th>Student ID</th>\n",
       "      <th>Age</th>\n",
       "      <th>Gender</th>\n",
       "      <th>Home Region</th>\n",
       "      <th>Home City</th>\n",
       "      <th>Program ID</th>\n",
       "      <th>Program Main Category Code</th>\n",
       "      <th>Program Sub Category Code</th>\n",
       "      <th>Technology Type</th>\n",
       "      <th>Program Skill Level</th>\n",
       "      <th>...</th>\n",
       "      <th>Completed Degree</th>\n",
       "      <th>Level of Education</th>\n",
       "      <th>Education Speaciality</th>\n",
       "      <th>College</th>\n",
       "      <th>University Degree Score</th>\n",
       "      <th>University Degree Score System</th>\n",
       "      <th>Employment Status</th>\n",
       "      <th>Job Type</th>\n",
       "      <th>Still Working</th>\n",
       "      <th>Y</th>\n",
       "    </tr>\n",
       "  </thead>\n",
       "  <tbody>\n",
       "    <tr>\n",
       "      <th>0</th>\n",
       "      <td>4f14c50d-162e-4a15-9cf0-ec129c33bcf0</td>\n",
       "      <td>37.0</td>\n",
       "      <td>ذكر</td>\n",
       "      <td>منطقة الرياض</td>\n",
       "      <td>الرياض</td>\n",
       "      <td>453686d8-4023-4506-b2df-fac8b059ac26</td>\n",
       "      <td>PCRF</td>\n",
       "      <td>PCRF</td>\n",
       "      <td>NaN</td>\n",
       "      <td>NaN</td>\n",
       "      <td>...</td>\n",
       "      <td>نعم</td>\n",
       "      <td>البكالوريوس</td>\n",
       "      <td>هندسة حاسب الالي</td>\n",
       "      <td>NaN</td>\n",
       "      <td>2.44</td>\n",
       "      <td>4.0</td>\n",
       "      <td>غير موظف</td>\n",
       "      <td>NaN</td>\n",
       "      <td>NaN</td>\n",
       "      <td>0</td>\n",
       "    </tr>\n",
       "    <tr>\n",
       "      <th>1</th>\n",
       "      <td>0599d409-876b-41a5-af05-749ef0e77d32</td>\n",
       "      <td>21.0</td>\n",
       "      <td>ذكر</td>\n",
       "      <td>منطقة عسير</td>\n",
       "      <td>خميس مشيط</td>\n",
       "      <td>cc8e4e42-65d5-4fa1-82f9-6c6c2d508b60</td>\n",
       "      <td>APMR</td>\n",
       "      <td>SWPS</td>\n",
       "      <td>NaN</td>\n",
       "      <td>متوسط</td>\n",
       "      <td>...</td>\n",
       "      <td>نعم</td>\n",
       "      <td>البكالوريوس</td>\n",
       "      <td>الإذاعة والتلفزيون والفيلم</td>\n",
       "      <td>الفنون والعلوم الإنسانية</td>\n",
       "      <td>5.00</td>\n",
       "      <td>5.0</td>\n",
       "      <td>طالب</td>\n",
       "      <td>NaN</td>\n",
       "      <td>NaN</td>\n",
       "      <td>0</td>\n",
       "    </tr>\n",
       "    <tr>\n",
       "      <th>2</th>\n",
       "      <td>38a11c0e-4afc-4261-9c64-e94cc0a272fb</td>\n",
       "      <td>24.0</td>\n",
       "      <td>ذكر</td>\n",
       "      <td>منطقة الرياض</td>\n",
       "      <td>الرياض</td>\n",
       "      <td>e006900d-05a9-4c2b-a36f-0ffb9fce44cd</td>\n",
       "      <td>APMR</td>\n",
       "      <td>NaN</td>\n",
       "      <td>NaN</td>\n",
       "      <td>متوسط</td>\n",
       "      <td>...</td>\n",
       "      <td>نعم</td>\n",
       "      <td>البكالوريوس</td>\n",
       "      <td>Information Technology</td>\n",
       "      <td>NaN</td>\n",
       "      <td>3.50</td>\n",
       "      <td>5.0</td>\n",
       "      <td>موظف</td>\n",
       "      <td>NaN</td>\n",
       "      <td>NaN</td>\n",
       "      <td>0</td>\n",
       "    </tr>\n",
       "    <tr>\n",
       "      <th>3</th>\n",
       "      <td>1693e85b-f80e-40ce-846f-395ddcece6d3</td>\n",
       "      <td>23.0</td>\n",
       "      <td>ذكر</td>\n",
       "      <td>منطقة الرياض</td>\n",
       "      <td>الرياض</td>\n",
       "      <td>2ec15f6b-233b-428a-b9f5-e40bc8d14cf9</td>\n",
       "      <td>TOSL</td>\n",
       "      <td>TOSL</td>\n",
       "      <td>NaN</td>\n",
       "      <td>NaN</td>\n",
       "      <td>...</td>\n",
       "      <td>نعم</td>\n",
       "      <td>البكالوريوس</td>\n",
       "      <td>حوسبة تطبيقية - (مسار شبكات الحاسب)</td>\n",
       "      <td>NaN</td>\n",
       "      <td>3.55</td>\n",
       "      <td>5.0</td>\n",
       "      <td>خريج</td>\n",
       "      <td>NaN</td>\n",
       "      <td>NaN</td>\n",
       "      <td>0</td>\n",
       "    </tr>\n",
       "    <tr>\n",
       "      <th>4</th>\n",
       "      <td>98a0e8d0-5f80-4634-afd8-322aa0902863</td>\n",
       "      <td>23.0</td>\n",
       "      <td>ذكر</td>\n",
       "      <td>منطقة الرياض</td>\n",
       "      <td>الرياض</td>\n",
       "      <td>d32da0e9-1aed-48c3-992d-a22f9ccc741e</td>\n",
       "      <td>CAUF</td>\n",
       "      <td>SWPS</td>\n",
       "      <td>تقليدية</td>\n",
       "      <td>متوسط</td>\n",
       "      <td>...</td>\n",
       "      <td>لا</td>\n",
       "      <td>البكالوريوس</td>\n",
       "      <td>نظم المعلومات الحاسوبية</td>\n",
       "      <td>تكنولوجيا الاتصالات والمعلومات</td>\n",
       "      <td>4.00</td>\n",
       "      <td>5.0</td>\n",
       "      <td>NaN</td>\n",
       "      <td>NaN</td>\n",
       "      <td>NaN</td>\n",
       "      <td>0</td>\n",
       "    </tr>\n",
       "  </tbody>\n",
       "</table>\n",
       "<p>5 rows × 24 columns</p>\n",
       "</div>"
      ],
      "text/plain": [
       "                             Student ID   Age Gender   Home Region  Home City  \\\n",
       "0  4f14c50d-162e-4a15-9cf0-ec129c33bcf0  37.0    ذكر  منطقة الرياض     الرياض   \n",
       "1  0599d409-876b-41a5-af05-749ef0e77d32  21.0    ذكر    منطقة عسير  خميس مشيط   \n",
       "2  38a11c0e-4afc-4261-9c64-e94cc0a272fb  24.0    ذكر  منطقة الرياض     الرياض   \n",
       "3  1693e85b-f80e-40ce-846f-395ddcece6d3  23.0    ذكر  منطقة الرياض     الرياض   \n",
       "4  98a0e8d0-5f80-4634-afd8-322aa0902863  23.0    ذكر  منطقة الرياض     الرياض   \n",
       "\n",
       "                             Program ID Program Main Category Code  \\\n",
       "0  453686d8-4023-4506-b2df-fac8b059ac26                       PCRF   \n",
       "1  cc8e4e42-65d5-4fa1-82f9-6c6c2d508b60                       APMR   \n",
       "2  e006900d-05a9-4c2b-a36f-0ffb9fce44cd                       APMR   \n",
       "3  2ec15f6b-233b-428a-b9f5-e40bc8d14cf9                       TOSL   \n",
       "4  d32da0e9-1aed-48c3-992d-a22f9ccc741e                       CAUF   \n",
       "\n",
       "  Program Sub Category Code Technology Type Program Skill Level  ...  \\\n",
       "0                      PCRF             NaN                 NaN  ...   \n",
       "1                      SWPS             NaN               متوسط  ...   \n",
       "2                       NaN             NaN               متوسط  ...   \n",
       "3                      TOSL             NaN                 NaN  ...   \n",
       "4                      SWPS         تقليدية               متوسط  ...   \n",
       "\n",
       "  Completed Degree Level of Education                Education Speaciality  \\\n",
       "0              نعم        البكالوريوس                     هندسة حاسب الالي   \n",
       "1              نعم        البكالوريوس           الإذاعة والتلفزيون والفيلم   \n",
       "2              نعم        البكالوريوس               Information Technology   \n",
       "3              نعم        البكالوريوس  حوسبة تطبيقية - (مسار شبكات الحاسب)   \n",
       "4               لا        البكالوريوس              نظم المعلومات الحاسوبية   \n",
       "\n",
       "                          College University Degree Score  \\\n",
       "0                             NaN                    2.44   \n",
       "1        الفنون والعلوم الإنسانية                    5.00   \n",
       "2                             NaN                    3.50   \n",
       "3                             NaN                    3.55   \n",
       "4  تكنولوجيا الاتصالات والمعلومات                    4.00   \n",
       "\n",
       "  University Degree Score System Employment Status Job Type  Still Working  Y  \n",
       "0                            4.0          غير موظف      NaN            NaN  0  \n",
       "1                            5.0              طالب      NaN            NaN  0  \n",
       "2                            5.0              موظف      NaN            NaN  0  \n",
       "3                            5.0              خريج      NaN            NaN  0  \n",
       "4                            5.0               NaN      NaN            NaN  0  \n",
       "\n",
       "[5 rows x 24 columns]"
      ]
     },
     "execution_count": 98,
     "metadata": {},
     "output_type": "execute_result"
    }
   ],
   "source": [
    "train_df_c.head()"
   ]
  },
  {
   "cell_type": "code",
   "execution_count": 99,
   "metadata": {},
   "outputs": [
    {
     "data": {
      "text/plain": [
       "(818, 23)"
      ]
     },
     "execution_count": 99,
     "metadata": {},
     "output_type": "execute_result"
    }
   ],
   "source": [
    "test_df_c.shape"
   ]
  },
  {
   "cell_type": "markdown",
   "metadata": {},
   "source": [
    "# Invistaging if there's any duplicates "
   ]
  },
  {
   "cell_type": "code",
   "execution_count": 110,
   "metadata": {},
   "outputs": [
    {
     "name": "stdout",
     "output_type": "stream",
     "text": [
      "True 286 4.367745876603543\n",
      "['c5316d11-38bb-450c-9372-26cd8aab05e2']\n"
     ]
    }
   ],
   "source": [
    "def check_dublicate(train,test):\n",
    "    \"\"\"\n",
    "    check wither theres a 'leak' in the test set from the train set\n",
    "\n",
    "    Args:\n",
    "        train (_type_): dataframe\n",
    "        test (_type_): dataframe\n",
    "        \n",
    "    Return: \n",
    "        bool: True if there are leaked records, False otherwise.\n",
    "        list: A list of leaked records (if any).\n",
    "        float: The percentage of leaked records (if any).\n",
    "    \"\"\"\n",
    "    hash_train = set(train)\n",
    "    hash_test = set(test)\n",
    "    \n",
    "    leaks = list(hash_train.intersection(hash_test))\n",
    "    has_leak = len(leaks) > 0\n",
    "\n",
    "    \n",
    "    # Percentage\n",
    "    num_leak = len(leaks)\n",
    "    total_records_train = len(train)\n",
    "    leak_percentage = (num_leak / total_records_train) * 100\n",
    "    \n",
    "    return has_leak, leaks , leak_percentage  \n",
    "    \n",
    "has_leak, leaks, leak_percentage = check_dublicate(train_df_c['Student ID'],test_df_c['Student ID'])\n",
    "\n",
    "print(has_leak, len(leaks), leak_percentage)\n",
    "print(leaks[:1])"
   ]
  },
  {
   "cell_type": "code",
   "execution_count": 111,
   "metadata": {},
   "outputs": [
    {
     "data": {
      "text/html": [
       "<div>\n",
       "<style scoped>\n",
       "    .dataframe tbody tr th:only-of-type {\n",
       "        vertical-align: middle;\n",
       "    }\n",
       "\n",
       "    .dataframe tbody tr th {\n",
       "        vertical-align: top;\n",
       "    }\n",
       "\n",
       "    .dataframe thead th {\n",
       "        text-align: right;\n",
       "    }\n",
       "</style>\n",
       "<table border=\"1\" class=\"dataframe\">\n",
       "  <thead>\n",
       "    <tr style=\"text-align: right;\">\n",
       "      <th></th>\n",
       "      <th>Student ID</th>\n",
       "      <th>Age</th>\n",
       "      <th>Gender</th>\n",
       "      <th>Home Region</th>\n",
       "      <th>Home City</th>\n",
       "      <th>Program ID</th>\n",
       "      <th>Program Main Category Code</th>\n",
       "      <th>Program Sub Category Code</th>\n",
       "      <th>Technology Type</th>\n",
       "      <th>Program Skill Level</th>\n",
       "      <th>...</th>\n",
       "      <th>Program Days</th>\n",
       "      <th>Completed Degree</th>\n",
       "      <th>Level of Education</th>\n",
       "      <th>Education Speaciality</th>\n",
       "      <th>College</th>\n",
       "      <th>University Degree Score</th>\n",
       "      <th>University Degree Score System</th>\n",
       "      <th>Employment Status</th>\n",
       "      <th>Job Type</th>\n",
       "      <th>Still Working</th>\n",
       "    </tr>\n",
       "  </thead>\n",
       "  <tbody>\n",
       "    <tr>\n",
       "      <th>262</th>\n",
       "      <td>c5316d11-38bb-450c-9372-26cd8aab05e2</td>\n",
       "      <td>24.0</td>\n",
       "      <td>أنثى</td>\n",
       "      <td>منطقة مكة المكرمة</td>\n",
       "      <td>العاصمة المقدسة</td>\n",
       "      <td>8d7f7985-b199-4712-9dfd-32f5e4a8eb85</td>\n",
       "      <td>INFA</td>\n",
       "      <td>INFA</td>\n",
       "      <td>تقليدية</td>\n",
       "      <td>مبتدئ</td>\n",
       "      <td>...</td>\n",
       "      <td>5</td>\n",
       "      <td>نعم</td>\n",
       "      <td>البكالوريوس</td>\n",
       "      <td>نظم المعلومات</td>\n",
       "      <td>تكنولوجيا الاتصالات والمعلومات</td>\n",
       "      <td>3.36</td>\n",
       "      <td>4.0</td>\n",
       "      <td>غير موظف</td>\n",
       "      <td>تدريب</td>\n",
       "      <td>No</td>\n",
       "    </tr>\n",
       "  </tbody>\n",
       "</table>\n",
       "<p>1 rows × 23 columns</p>\n",
       "</div>"
      ],
      "text/plain": [
       "                               Student ID   Age Gender        Home Region  \\\n",
       "262  c5316d11-38bb-450c-9372-26cd8aab05e2  24.0   أنثى  منطقة مكة المكرمة   \n",
       "\n",
       "           Home City                            Program ID  \\\n",
       "262  العاصمة المقدسة  8d7f7985-b199-4712-9dfd-32f5e4a8eb85   \n",
       "\n",
       "    Program Main Category Code Program Sub Category Code Technology Type  \\\n",
       "262                       INFA                      INFA         تقليدية   \n",
       "\n",
       "    Program Skill Level  ... Program Days Completed Degree Level of Education  \\\n",
       "262               مبتدئ  ...            5              نعم        البكالوريوس   \n",
       "\n",
       "     Education Speaciality                         College  \\\n",
       "262          نظم المعلومات  تكنولوجيا الاتصالات والمعلومات   \n",
       "\n",
       "    University Degree Score University Degree Score System Employment Status  \\\n",
       "262                    3.36                            4.0          غير موظف   \n",
       "\n",
       "     Job Type  Still Working  \n",
       "262     تدريب             No  \n",
       "\n",
       "[1 rows x 23 columns]"
      ]
     },
     "execution_count": 111,
     "metadata": {},
     "output_type": "execute_result"
    }
   ],
   "source": [
    "test_df_c[test_df_c['Student ID'] == 'c5316d11-38bb-450c-9372-26cd8aab05e2']"
   ]
  },
  {
   "cell_type": "code",
   "execution_count": 112,
   "metadata": {},
   "outputs": [
    {
     "data": {
      "text/html": [
       "<div>\n",
       "<style scoped>\n",
       "    .dataframe tbody tr th:only-of-type {\n",
       "        vertical-align: middle;\n",
       "    }\n",
       "\n",
       "    .dataframe tbody tr th {\n",
       "        vertical-align: top;\n",
       "    }\n",
       "\n",
       "    .dataframe thead th {\n",
       "        text-align: right;\n",
       "    }\n",
       "</style>\n",
       "<table border=\"1\" class=\"dataframe\">\n",
       "  <thead>\n",
       "    <tr style=\"text-align: right;\">\n",
       "      <th></th>\n",
       "      <th>Student ID</th>\n",
       "      <th>Age</th>\n",
       "      <th>Gender</th>\n",
       "      <th>Home Region</th>\n",
       "      <th>Home City</th>\n",
       "      <th>Program ID</th>\n",
       "      <th>Program Main Category Code</th>\n",
       "      <th>Program Sub Category Code</th>\n",
       "      <th>Technology Type</th>\n",
       "      <th>Program Skill Level</th>\n",
       "      <th>...</th>\n",
       "      <th>Completed Degree</th>\n",
       "      <th>Level of Education</th>\n",
       "      <th>Education Speaciality</th>\n",
       "      <th>College</th>\n",
       "      <th>University Degree Score</th>\n",
       "      <th>University Degree Score System</th>\n",
       "      <th>Employment Status</th>\n",
       "      <th>Job Type</th>\n",
       "      <th>Still Working</th>\n",
       "      <th>Y</th>\n",
       "    </tr>\n",
       "  </thead>\n",
       "  <tbody>\n",
       "    <tr>\n",
       "      <th>1521</th>\n",
       "      <td>c5316d11-38bb-450c-9372-26cd8aab05e2</td>\n",
       "      <td>24.0</td>\n",
       "      <td>أنثى</td>\n",
       "      <td>منطقة مكة المكرمة</td>\n",
       "      <td>العاصمة المقدسة</td>\n",
       "      <td>cc8e4e42-65d5-4fa1-82f9-6c6c2d508b60</td>\n",
       "      <td>APMR</td>\n",
       "      <td>SWPS</td>\n",
       "      <td>NaN</td>\n",
       "      <td>متوسط</td>\n",
       "      <td>...</td>\n",
       "      <td>نعم</td>\n",
       "      <td>البكالوريوس</td>\n",
       "      <td>نظم المعلومات</td>\n",
       "      <td>تكنولوجيا الاتصالات والمعلومات</td>\n",
       "      <td>3.36</td>\n",
       "      <td>4.0</td>\n",
       "      <td>غير موظف</td>\n",
       "      <td>تدريب</td>\n",
       "      <td>No</td>\n",
       "      <td>0</td>\n",
       "    </tr>\n",
       "  </tbody>\n",
       "</table>\n",
       "<p>1 rows × 24 columns</p>\n",
       "</div>"
      ],
      "text/plain": [
       "                                Student ID   Age Gender        Home Region  \\\n",
       "1521  c5316d11-38bb-450c-9372-26cd8aab05e2  24.0   أنثى  منطقة مكة المكرمة   \n",
       "\n",
       "            Home City                            Program ID  \\\n",
       "1521  العاصمة المقدسة  cc8e4e42-65d5-4fa1-82f9-6c6c2d508b60   \n",
       "\n",
       "     Program Main Category Code Program Sub Category Code Technology Type  \\\n",
       "1521                       APMR                      SWPS             NaN   \n",
       "\n",
       "     Program Skill Level  ... Completed Degree Level of Education  \\\n",
       "1521               متوسط  ...              نعم        البكالوريوس   \n",
       "\n",
       "     Education Speaciality                         College  \\\n",
       "1521         نظم المعلومات  تكنولوجيا الاتصالات والمعلومات   \n",
       "\n",
       "     University Degree Score University Degree Score System Employment Status  \\\n",
       "1521                    3.36                            4.0          غير موظف   \n",
       "\n",
       "     Job Type  Still Working  Y  \n",
       "1521    تدريب             No  0  \n",
       "\n",
       "[1 rows x 24 columns]"
      ]
     },
     "execution_count": 112,
     "metadata": {},
     "output_type": "execute_result"
    }
   ],
   "source": [
    "train_df[train_df['Student ID'] == 'c5316d11-38bb-450c-9372-26cd8aab05e2']"
   ]
  },
  {
   "cell_type": "markdown",
   "metadata": {},
   "source": [
    "Insights\n",
    "- No leak found\n",
    "- use target encoding on train data for more random feature engineering\n",
    "- Synthetic Data Generation to get more data\n"
   ]
  },
  {
   "cell_type": "markdown",
   "metadata": {},
   "source": [
    "## Target encoding\n"
   ]
  },
  {
   "cell_type": "code",
   "execution_count": 103,
   "metadata": {},
   "outputs": [],
   "source": [
    "train_df_c[\"city_encoded\"] = train_df_c.groupby(\"Home City\")[\"Y\"].transform(\"mean\")\n"
   ]
  },
  {
   "cell_type": "code",
   "execution_count": 104,
   "metadata": {},
   "outputs": [
    {
     "data": {
      "text/plain": [
       "array(['الرياض', 'خميس مشيط', 'حفر الباطن', 'جدة', 'نجران', 'مكة المكرمة',\n",
       "       'ينبع', 'المدينة المنورة', 'الهفوف', 'بريدة', 'تبوك',\n",
       "       'العاصمة المقدسة', 'الأحساء', 'الجبيل', 'عرعر', 'أبها', 'أبو عريش',\n",
       "       'الدمام', 'الطائف', 'الباحة', 'أحد المسارحة', 'حائل', 'الدلم',\n",
       "       'القطيف', 'الدرعية', 'جيزان', 'جازان', 'الخبر', 'المجمعة', 'الخرج',\n",
       "       'الظهران', 'الدوادمي', 'المزاحمية', 'عنيزة', 'القنفذة', 'الليث',\n",
       "       'شرورة', 'الرس', 'صامطة', 'شقراء', 'سيهات', 'صفوى', 'سكاكا',\n",
       "       'البدائع', 'رابغ', 'رفحاء', 'بيشة', 'محايل', 'المذنب', 'الخفجي',\n",
       "       'رأس تنورة', 'ضمد', 'القريات', nan, 'حوطة بني تميم', 'ضبا',\n",
       "       'مهد الذهب', 'بارق', 'بيش', 'دومة الجندل', 'صبيا', 'العرضيات',\n",
       "       'الحناكية', 'سراة عبيدة', 'أحد رفيدة', 'تربة', 'العلا',\n",
       "       'الحريملاء', 'بلجرشي', 'بقيق', 'القرى', 'رجال ألمع', 'المجاردة',\n",
       "       'وادي الفرع', 'محايل عسير', 'الزلفي', 'بدر', 'تثليث', 'عنك',\n",
       "       'البكيرية', 'ابها', 'بني حسن', 'رياض الخبراء', 'ثادق', 'الدرب',\n",
       "       'بحرة', 'الجموم', 'الغاط', 'تيماء', 'طبرجل', 'طريف',\n",
       "       'ظهران الجنوب', 'أملج'], dtype=object)"
      ]
     },
     "execution_count": 104,
     "metadata": {},
     "output_type": "execute_result"
    }
   ],
   "source": [
    "train_df_c[\"Home City\"].unique()"
   ]
  },
  {
   "cell_type": "code",
   "execution_count": 105,
   "metadata": {},
   "outputs": [
    {
     "data": {
      "text/plain": [
       "4037"
      ]
     },
     "execution_count": 105,
     "metadata": {},
     "output_type": "execute_result"
    }
   ],
   "source": [
    "len(train_df_c[(train_df_c[\"Home City\"] == \"الرياض\") & (train_df_c[\"Y\"] == 0)])\n"
   ]
  },
  {
   "cell_type": "code",
   "execution_count": 106,
   "metadata": {},
   "outputs": [
    {
     "data": {
      "text/plain": [
       "0       0.144703\n",
       "1       0.175000\n",
       "2       0.144703\n",
       "3       0.144703\n",
       "4       0.144703\n",
       "          ...   \n",
       "6543    0.144703\n",
       "6544    0.106061\n",
       "6545    0.144703\n",
       "6546    0.144703\n",
       "6547    0.144703\n",
       "Name: city_encoded, Length: 6548, dtype: float64"
      ]
     },
     "execution_count": 106,
     "metadata": {},
     "output_type": "execute_result"
    }
   ],
   "source": [
    "train_df_c[\"city_encoded\"]"
   ]
  },
  {
   "cell_type": "code",
   "execution_count": 113,
   "metadata": {},
   "outputs": [
    {
     "data": {
      "text/plain": [
       "Index(['Student ID', 'Age', 'Gender', 'Home Region', 'Home City', 'Program ID',\n",
       "       'Program Main Category Code', 'Program Sub Category Code',\n",
       "       'Technology Type', 'Program Skill Level', 'Program Presentation Method',\n",
       "       'Program Start Date', 'Program End Date', 'Program Days',\n",
       "       'Completed Degree', 'Level of Education', 'Education Speaciality',\n",
       "       'College', 'University Degree Score', 'University Degree Score System',\n",
       "       'Employment Status', 'Job Type', 'Still Working', 'Y', 'city_encoded'],\n",
       "      dtype='object')"
      ]
     },
     "execution_count": 113,
     "metadata": {},
     "output_type": "execute_result"
    }
   ],
   "source": [
    "train_df_c.columns"
   ]
  }
 ],
 "metadata": {
  "kernelspec": {
   "display_name": "Python 3",
   "language": "python",
   "name": "python3"
  },
  "language_info": {
   "codemirror_mode": {
    "name": "ipython",
    "version": 3
   },
   "file_extension": ".py",
   "mimetype": "text/x-python",
   "name": "python",
   "nbconvert_exporter": "python",
   "pygments_lexer": "ipython3",
   "version": "3.11.4"
  }
 },
 "nbformat": 4,
 "nbformat_minor": 2
}
