{
 "cells": [
  {
   "cell_type": "markdown",
   "metadata": {},
   "source": [
    "# Explorotary Data Analysis (EDA)\n",
    "The main objecitves of this notebook are \n",
    "- Performing a descriptive analysis of the dataset\n",
    "- investigating relationships between features and the target variable "
   ]
  },
  {
   "cell_type": "markdown",
   "metadata": {},
   "source": [
    "# Imports"
   ]
  },
  {
   "cell_type": "code",
   "execution_count": 67,
   "metadata": {},
   "outputs": [],
   "source": [
    "import pandas as pd \n",
    "import scipy\n",
    "import matplotlib.pyplot as plt\n",
    "from sklearn.preprocessing import LabelEncoder\n",
    " "
   ]
  },
  {
   "cell_type": "markdown",
   "metadata": {},
   "source": [
    "# Data"
   ]
  },
  {
   "cell_type": "code",
   "execution_count": 68,
   "metadata": {},
   "outputs": [],
   "source": [
    "train_df = pd.read_csv(\"./Dataset/train.csv\")\n"
   ]
  },
  {
   "cell_type": "code",
   "execution_count": 69,
   "metadata": {},
   "outputs": [],
   "source": [
    "train_df_c = train_df.copy()\n"
   ]
  },
  {
   "cell_type": "code",
   "execution_count": 70,
   "metadata": {},
   "outputs": [
    {
     "data": {
      "text/html": [
       "<div>\n",
       "<style scoped>\n",
       "    .dataframe tbody tr th:only-of-type {\n",
       "        vertical-align: middle;\n",
       "    }\n",
       "\n",
       "    .dataframe tbody tr th {\n",
       "        vertical-align: top;\n",
       "    }\n",
       "\n",
       "    .dataframe thead th {\n",
       "        text-align: right;\n",
       "    }\n",
       "</style>\n",
       "<table border=\"1\" class=\"dataframe\">\n",
       "  <thead>\n",
       "    <tr style=\"text-align: right;\">\n",
       "      <th></th>\n",
       "      <th>Student ID</th>\n",
       "      <th>Age</th>\n",
       "      <th>Gender</th>\n",
       "      <th>Home Region</th>\n",
       "      <th>Home City</th>\n",
       "      <th>Program ID</th>\n",
       "      <th>Program Main Category Code</th>\n",
       "      <th>Program Sub Category Code</th>\n",
       "      <th>Technology Type</th>\n",
       "      <th>Program Skill Level</th>\n",
       "      <th>...</th>\n",
       "      <th>Completed Degree</th>\n",
       "      <th>Level of Education</th>\n",
       "      <th>Education Speaciality</th>\n",
       "      <th>College</th>\n",
       "      <th>University Degree Score</th>\n",
       "      <th>University Degree Score System</th>\n",
       "      <th>Employment Status</th>\n",
       "      <th>Job Type</th>\n",
       "      <th>Still Working</th>\n",
       "      <th>Y</th>\n",
       "    </tr>\n",
       "  </thead>\n",
       "  <tbody>\n",
       "    <tr>\n",
       "      <th>0</th>\n",
       "      <td>4f14c50d-162e-4a15-9cf0-ec129c33bcf0</td>\n",
       "      <td>37.0</td>\n",
       "      <td>ذكر</td>\n",
       "      <td>منطقة الرياض</td>\n",
       "      <td>الرياض</td>\n",
       "      <td>453686d8-4023-4506-b2df-fac8b059ac26</td>\n",
       "      <td>PCRF</td>\n",
       "      <td>PCRF</td>\n",
       "      <td>NaN</td>\n",
       "      <td>NaN</td>\n",
       "      <td>...</td>\n",
       "      <td>نعم</td>\n",
       "      <td>البكالوريوس</td>\n",
       "      <td>هندسة حاسب الالي</td>\n",
       "      <td>NaN</td>\n",
       "      <td>2.44</td>\n",
       "      <td>4.0</td>\n",
       "      <td>غير موظف</td>\n",
       "      <td>NaN</td>\n",
       "      <td>NaN</td>\n",
       "      <td>0</td>\n",
       "    </tr>\n",
       "    <tr>\n",
       "      <th>1</th>\n",
       "      <td>0599d409-876b-41a5-af05-749ef0e77d32</td>\n",
       "      <td>21.0</td>\n",
       "      <td>ذكر</td>\n",
       "      <td>منطقة عسير</td>\n",
       "      <td>خميس مشيط</td>\n",
       "      <td>cc8e4e42-65d5-4fa1-82f9-6c6c2d508b60</td>\n",
       "      <td>APMR</td>\n",
       "      <td>SWPS</td>\n",
       "      <td>NaN</td>\n",
       "      <td>متوسط</td>\n",
       "      <td>...</td>\n",
       "      <td>نعم</td>\n",
       "      <td>البكالوريوس</td>\n",
       "      <td>الإذاعة والتلفزيون والفيلم</td>\n",
       "      <td>الفنون والعلوم الإنسانية</td>\n",
       "      <td>5.00</td>\n",
       "      <td>5.0</td>\n",
       "      <td>طالب</td>\n",
       "      <td>NaN</td>\n",
       "      <td>NaN</td>\n",
       "      <td>0</td>\n",
       "    </tr>\n",
       "    <tr>\n",
       "      <th>2</th>\n",
       "      <td>38a11c0e-4afc-4261-9c64-e94cc0a272fb</td>\n",
       "      <td>24.0</td>\n",
       "      <td>ذكر</td>\n",
       "      <td>منطقة الرياض</td>\n",
       "      <td>الرياض</td>\n",
       "      <td>e006900d-05a9-4c2b-a36f-0ffb9fce44cd</td>\n",
       "      <td>APMR</td>\n",
       "      <td>NaN</td>\n",
       "      <td>NaN</td>\n",
       "      <td>متوسط</td>\n",
       "      <td>...</td>\n",
       "      <td>نعم</td>\n",
       "      <td>البكالوريوس</td>\n",
       "      <td>Information Technology</td>\n",
       "      <td>NaN</td>\n",
       "      <td>3.50</td>\n",
       "      <td>5.0</td>\n",
       "      <td>موظف</td>\n",
       "      <td>NaN</td>\n",
       "      <td>NaN</td>\n",
       "      <td>0</td>\n",
       "    </tr>\n",
       "    <tr>\n",
       "      <th>3</th>\n",
       "      <td>1693e85b-f80e-40ce-846f-395ddcece6d3</td>\n",
       "      <td>23.0</td>\n",
       "      <td>ذكر</td>\n",
       "      <td>منطقة الرياض</td>\n",
       "      <td>الرياض</td>\n",
       "      <td>2ec15f6b-233b-428a-b9f5-e40bc8d14cf9</td>\n",
       "      <td>TOSL</td>\n",
       "      <td>TOSL</td>\n",
       "      <td>NaN</td>\n",
       "      <td>NaN</td>\n",
       "      <td>...</td>\n",
       "      <td>نعم</td>\n",
       "      <td>البكالوريوس</td>\n",
       "      <td>حوسبة تطبيقية - (مسار شبكات الحاسب)</td>\n",
       "      <td>NaN</td>\n",
       "      <td>3.55</td>\n",
       "      <td>5.0</td>\n",
       "      <td>خريج</td>\n",
       "      <td>NaN</td>\n",
       "      <td>NaN</td>\n",
       "      <td>0</td>\n",
       "    </tr>\n",
       "    <tr>\n",
       "      <th>4</th>\n",
       "      <td>98a0e8d0-5f80-4634-afd8-322aa0902863</td>\n",
       "      <td>23.0</td>\n",
       "      <td>ذكر</td>\n",
       "      <td>منطقة الرياض</td>\n",
       "      <td>الرياض</td>\n",
       "      <td>d32da0e9-1aed-48c3-992d-a22f9ccc741e</td>\n",
       "      <td>CAUF</td>\n",
       "      <td>SWPS</td>\n",
       "      <td>تقليدية</td>\n",
       "      <td>متوسط</td>\n",
       "      <td>...</td>\n",
       "      <td>لا</td>\n",
       "      <td>البكالوريوس</td>\n",
       "      <td>نظم المعلومات الحاسوبية</td>\n",
       "      <td>تكنولوجيا الاتصالات والمعلومات</td>\n",
       "      <td>4.00</td>\n",
       "      <td>5.0</td>\n",
       "      <td>NaN</td>\n",
       "      <td>NaN</td>\n",
       "      <td>NaN</td>\n",
       "      <td>0</td>\n",
       "    </tr>\n",
       "  </tbody>\n",
       "</table>\n",
       "<p>5 rows × 24 columns</p>\n",
       "</div>"
      ],
      "text/plain": [
       "                             Student ID   Age Gender   Home Region  Home City  \\\n",
       "0  4f14c50d-162e-4a15-9cf0-ec129c33bcf0  37.0    ذكر  منطقة الرياض     الرياض   \n",
       "1  0599d409-876b-41a5-af05-749ef0e77d32  21.0    ذكر    منطقة عسير  خميس مشيط   \n",
       "2  38a11c0e-4afc-4261-9c64-e94cc0a272fb  24.0    ذكر  منطقة الرياض     الرياض   \n",
       "3  1693e85b-f80e-40ce-846f-395ddcece6d3  23.0    ذكر  منطقة الرياض     الرياض   \n",
       "4  98a0e8d0-5f80-4634-afd8-322aa0902863  23.0    ذكر  منطقة الرياض     الرياض   \n",
       "\n",
       "                             Program ID Program Main Category Code  \\\n",
       "0  453686d8-4023-4506-b2df-fac8b059ac26                       PCRF   \n",
       "1  cc8e4e42-65d5-4fa1-82f9-6c6c2d508b60                       APMR   \n",
       "2  e006900d-05a9-4c2b-a36f-0ffb9fce44cd                       APMR   \n",
       "3  2ec15f6b-233b-428a-b9f5-e40bc8d14cf9                       TOSL   \n",
       "4  d32da0e9-1aed-48c3-992d-a22f9ccc741e                       CAUF   \n",
       "\n",
       "  Program Sub Category Code Technology Type Program Skill Level  ...  \\\n",
       "0                      PCRF             NaN                 NaN  ...   \n",
       "1                      SWPS             NaN               متوسط  ...   \n",
       "2                       NaN             NaN               متوسط  ...   \n",
       "3                      TOSL             NaN                 NaN  ...   \n",
       "4                      SWPS         تقليدية               متوسط  ...   \n",
       "\n",
       "  Completed Degree Level of Education                Education Speaciality  \\\n",
       "0              نعم        البكالوريوس                     هندسة حاسب الالي   \n",
       "1              نعم        البكالوريوس           الإذاعة والتلفزيون والفيلم   \n",
       "2              نعم        البكالوريوس               Information Technology   \n",
       "3              نعم        البكالوريوس  حوسبة تطبيقية - (مسار شبكات الحاسب)   \n",
       "4               لا        البكالوريوس              نظم المعلومات الحاسوبية   \n",
       "\n",
       "                          College University Degree Score  \\\n",
       "0                             NaN                    2.44   \n",
       "1        الفنون والعلوم الإنسانية                    5.00   \n",
       "2                             NaN                    3.50   \n",
       "3                             NaN                    3.55   \n",
       "4  تكنولوجيا الاتصالات والمعلومات                    4.00   \n",
       "\n",
       "  University Degree Score System Employment Status Job Type  Still Working  Y  \n",
       "0                            4.0          غير موظف      NaN            NaN  0  \n",
       "1                            5.0              طالب      NaN            NaN  0  \n",
       "2                            5.0              موظف      NaN            NaN  0  \n",
       "3                            5.0              خريج      NaN            NaN  0  \n",
       "4                            5.0               NaN      NaN            NaN  0  \n",
       "\n",
       "[5 rows x 24 columns]"
      ]
     },
     "execution_count": 70,
     "metadata": {},
     "output_type": "execute_result"
    }
   ],
   "source": [
    "train_df_c.head()"
   ]
  },
  {
   "cell_type": "code",
   "execution_count": 71,
   "metadata": {},
   "outputs": [
    {
     "name": "stdout",
     "output_type": "stream",
     "text": [
      "<class 'pandas.core.frame.DataFrame'>\n",
      "RangeIndex: 6548 entries, 0 to 6547\n",
      "Data columns (total 24 columns):\n",
      " #   Column                          Non-Null Count  Dtype  \n",
      "---  ------                          --------------  -----  \n",
      " 0   Student ID                      6548 non-null   object \n",
      " 1   Age                             6456 non-null   float64\n",
      " 2   Gender                          6548 non-null   object \n",
      " 3   Home Region                     6546 non-null   object \n",
      " 4   Home City                       6546 non-null   object \n",
      " 5   Program ID                      6548 non-null   object \n",
      " 6   Program Main Category Code      6548 non-null   object \n",
      " 7   Program Sub Category Code       5613 non-null   object \n",
      " 8   Technology Type                 3566 non-null   object \n",
      " 9   Program Skill Level             4902 non-null   object \n",
      " 10  Program Presentation Method     6548 non-null   object \n",
      " 11  Program Start Date              6548 non-null   object \n",
      " 12  Program End Date                6548 non-null   object \n",
      " 13  Program Days                    6548 non-null   int64  \n",
      " 14  Completed Degree                6548 non-null   object \n",
      " 15  Level of Education              6522 non-null   object \n",
      " 16  Education Speaciality           6271 non-null   object \n",
      " 17  College                         2658 non-null   object \n",
      " 18  University Degree Score         6467 non-null   float64\n",
      " 19  University Degree Score System  6467 non-null   float64\n",
      " 20  Employment Status               5982 non-null   object \n",
      " 21  Job Type                        1981 non-null   object \n",
      " 22  Still Working                   1981 non-null   object \n",
      " 23  Y                               6548 non-null   int64  \n",
      "dtypes: float64(3), int64(2), object(19)\n",
      "memory usage: 1.2+ MB\n"
     ]
    }
   ],
   "source": [
    "train_df_c.info()"
   ]
  },
  {
   "cell_type": "code",
   "execution_count": 72,
   "metadata": {},
   "outputs": [
    {
     "data": {
      "text/plain": [
       "Index(['Student ID', 'Age', 'Gender', 'Home Region', 'Home City', 'Program ID',\n",
       "       'Program Main Category Code', 'Program Sub Category Code',\n",
       "       'Technology Type', 'Program Skill Level', 'Program Presentation Method',\n",
       "       'Program Start Date', 'Program End Date', 'Program Days',\n",
       "       'Completed Degree', 'Level of Education', 'Education Speaciality',\n",
       "       'College', 'University Degree Score', 'University Degree Score System',\n",
       "       'Employment Status', 'Job Type', 'Still Working', 'Y'],\n",
       "      dtype='object')"
      ]
     },
     "execution_count": 72,
     "metadata": {},
     "output_type": "execute_result"
    }
   ],
   "source": [
    "train_df_c.columns"
   ]
  },
  {
   "cell_type": "markdown",
   "metadata": {},
   "source": [
    "# General Analysis of different featrues with relation in completion of the program\n",
    "In this section I explore the relations of different features with the completion of the program \n",
    "1. **Group Data by Gender and Completion Status**\n",
    "2. **Group Data by Program Days and Completion Status**\n",
    "3. **Group Data by College and Completion Status**"
   ]
  },
  {
   "cell_type": "markdown",
   "metadata": {},
   "source": [
    "## **Does gender play role in the completion of the program?**"
   ]
  },
  {
   "cell_type": "markdown",
   "metadata": {},
   "source": [
    "1. **Group Data by Gender and Completion Status**"
   ]
  },
  {
   "cell_type": "code",
   "execution_count": 73,
   "metadata": {},
   "outputs": [
    {
     "data": {
      "image/png": "[encoded data removed]",
      "text/plain": [
       "<Figure size 640x480 with 1 Axes>"
      ]
     },
     "metadata": {},
     "output_type": "display_data"
    }
   ],
   "source": [
    "gender_y_sum  = train_df_c.groupby(['Gender','Y']).size().unstack()\n",
    "gender_y_sum.plot(kind='bar', stacked=True)\n",
    "plt.title('Distribution of Genders completeing the program')\n",
    "plt.xlabel('Gender')\n",
    "plt.ylabel('Count')\n",
    "plt.xticks(rotation=0)\n",
    "plt.legend(title='Target Variable (Y)', labels=['Completed', 'Didnt complete'])\n",
    "plt.show()"
   ]
  },
  {
   "cell_type": "code",
   "execution_count": 74,
   "metadata": {},
   "outputs": [
    {
     "data": {
      "text/html": [
       "<div>\n",
       "<style scoped>\n",
       "    .dataframe tbody tr th:only-of-type {\n",
       "        vertical-align: middle;\n",
       "    }\n",
       "\n",
       "    .dataframe tbody tr th {\n",
       "        vertical-align: top;\n",
       "    }\n",
       "\n",
       "    .dataframe thead th {\n",
       "        text-align: right;\n",
       "    }\n",
       "</style>\n",
       "<table border=\"1\" class=\"dataframe\">\n",
       "  <thead>\n",
       "    <tr style=\"text-align: right;\">\n",
       "      <th>Y</th>\n",
       "      <th>0</th>\n",
       "      <th>1</th>\n",
       "    </tr>\n",
       "    <tr>\n",
       "      <th>Gender</th>\n",
       "      <th></th>\n",
       "      <th></th>\n",
       "    </tr>\n",
       "  </thead>\n",
       "  <tbody>\n",
       "    <tr>\n",
       "      <th>أنثى</th>\n",
       "      <td>3065</td>\n",
       "      <td>599</td>\n",
       "    </tr>\n",
       "    <tr>\n",
       "      <th>ذكر</th>\n",
       "      <td>2444</td>\n",
       "      <td>440</td>\n",
       "    </tr>\n",
       "  </tbody>\n",
       "</table>\n",
       "</div>"
      ],
      "text/plain": [
       "Y          0    1\n",
       "Gender           \n",
       "أنثى    3065  599\n",
       "ذكر     2444  440"
      ]
     },
     "execution_count": 74,
     "metadata": {},
     "output_type": "execute_result"
    }
   ],
   "source": [
    "gender_y_sum"
   ]
  },
  {
   "cell_type": "markdown",
   "metadata": {},
   "source": [
    "## **What about the length of the program does it play a role in the program completion?**"
   ]
  },
  {
   "cell_type": "markdown",
   "metadata": {},
   "source": [
    "2. **Group Data by Program Days and Completion Status**\n"
   ]
  },
  {
   "cell_type": "code",
   "execution_count": 75,
   "metadata": {},
   "outputs": [
    {
     "data": {
      "image/png": "[encoded data removed]",
      "text/plain": [
       "<Figure size 1500x600 with 1 Axes>"
      ]
     },
     "metadata": {},
     "output_type": "display_data"
    }
   ],
   "source": [
    "Program_Days_y_sum  = train_df_c.groupby(['Program Days','Y']).size().unstack()\n",
    "Program_Days_y_sum.plot(kind='bar', stacked=True, figsize=(15, 6))\n",
    "plt.title('Distribution of Program Days and the completetion of the program')\n",
    "plt.xlabel('Program Days')\n",
    "plt.ylabel('Count')\n",
    "plt.xticks(rotation=0)\n",
    "plt.legend(title='Target Variable (Y)', labels=['Completed', 'Didnt complete'])\n",
    "plt.show()\n"
   ]
  },
  {
   "cell_type": "code",
   "execution_count": 76,
   "metadata": {},
   "outputs": [
    {
     "data": {
      "text/plain": [
       "Program Days\n",
       "5      2902\n",
       "12     1566\n",
       "54      531\n",
       "19      374\n",
       "26      311\n",
       "33      125\n",
       "4       113\n",
       "40       99\n",
       "173      80\n",
       "44       77\n",
       "59       60\n",
       "3        37\n",
       "9        35\n",
       "10       32\n",
       "80       28\n",
       "292      25\n",
       "47       22\n",
       "66       21\n",
       "25       19\n",
       "21       18\n",
       "248      18\n",
       "96       17\n",
       "20       15\n",
       "135      15\n",
       "61        8\n",
       "Name: count, dtype: int64"
      ]
     },
     "execution_count": 76,
     "metadata": {},
     "output_type": "execute_result"
    }
   ],
   "source": [
    "train_df_c['Program Days'].value_counts()"
   ]
  },
  {
   "cell_type": "markdown",
   "metadata": {},
   "source": [
    "**Note** There might be high variance in the <font color='red'>Program Days</font> feature\n",
    "\n",
    "-----"
   ]
  },
  {
   "cell_type": "markdown",
   "metadata": {},
   "source": [
    "## **Are some college students tend to complete the program more than others?**"
   ]
  },
  {
   "cell_type": "markdown",
   "metadata": {},
   "source": [
    "3. **Group Data by College and Completion Status**"
   ]
  },
  {
   "cell_type": "code",
   "execution_count": 77,
   "metadata": {},
   "outputs": [
    {
     "data": {
      "image/png": "[encoded data removed]",
      "text/plain": [
       "<Figure size 2000x600 with 1 Axes>"
      ]
     },
     "metadata": {},
     "output_type": "display_data"
    }
   ],
   "source": [
    "College_y_sum  = train_df_c.groupby(['College','Y']).size().unstack()\n",
    "College_y_sum.plot(kind='bar', stacked=True, figsize=(20, 6))\n",
    "plt.title('Distribution of Colleges and the completetion of the program')\n",
    "plt.xlabel('College')\n",
    "plt.ylabel('Count')\n",
    "plt.xticks(rotation=90)\n",
    "plt.legend(title='Target Variable (Y)', labels=['Completed', 'Didnt complete'])\n",
    "plt.show()\n"
   ]
  },
  {
   "cell_type": "markdown",
   "metadata": {},
   "source": [
    "# In-depth Analysis (Answers for the questions above): \n",
    "**Objective**: To analyze the *completion rates* of different features to answer the questions above, taking into account the lack of data.\n",
    "1. Completion rates for each College\n",
    "2. Completion rates for each Genders\n",
    "3. completetion rates for Program Days\n",
    "\n"
   ]
  },
  {
   "cell_type": "markdown",
   "metadata": {},
   "source": [
    "1. Completion rates for each College\n",
    "-----"
   ]
  },
  {
   "cell_type": "code",
   "execution_count": 78,
   "metadata": {},
   "outputs": [
    {
     "name": "stdout",
     "output_type": "stream",
     "text": [
      "Completetion rates for each College\n",
      "العلوم الطبيعية والرياضيات والإحصاء    0.903226\n",
      "تكنولوجيا الاتصالات والمعلومات         0.872837\n",
      "الأعمال والإدارة والقانون              0.823529\n",
      "الفنون والعلوم الإنسانية               0.815789\n",
      "العلوم الاجتماعية والصحافة والإعلام    0.800000\n",
      "الهندسة والتصنيع والبناء               0.790698\n",
      "التعليم                                0.789474\n",
      "الصحة والرفاة                          0.750000\n",
      "البرامج والمؤهلات العامة               0.500000\n",
      "dtype: float64\n"
     ]
    }
   ],
   "source": [
    "total_per_college = College_y_sum.sum(axis=1)\n",
    "print(f\"Completetion rates for each {(College_y_sum[0]/total_per_college).sort_values(ascending=False)}\")"
   ]
  },
  {
   "cell_type": "markdown",
   "metadata": {},
   "source": [
    "**Insights**\n",
    "\n",
    "* STEM majors have more completion rates than others\n",
    "* Mangment majors complete the programs more than Engineering majors\n",
    "* The majors of Education and Health show low completion rates close to 78% and 75%, respectively. I assume this because they have a more stable jobs\n",
    "and don't need to complete the programs"
   ]
  },
  {
   "cell_type": "code",
   "execution_count": 79,
   "metadata": {},
   "outputs": [
    {
     "data": {
      "text/html": [
       "<div>\n",
       "<style scoped>\n",
       "    .dataframe tbody tr th:only-of-type {\n",
       "        vertical-align: middle;\n",
       "    }\n",
       "\n",
       "    .dataframe tbody tr th {\n",
       "        vertical-align: top;\n",
       "    }\n",
       "\n",
       "    .dataframe thead th {\n",
       "        text-align: right;\n",
       "    }\n",
       "</style>\n",
       "<table border=\"1\" class=\"dataframe\">\n",
       "  <thead>\n",
       "    <tr style=\"text-align: right;\">\n",
       "      <th>Y</th>\n",
       "      <th>0</th>\n",
       "      <th>1</th>\n",
       "    </tr>\n",
       "    <tr>\n",
       "      <th>College</th>\n",
       "      <th></th>\n",
       "      <th></th>\n",
       "    </tr>\n",
       "  </thead>\n",
       "  <tbody>\n",
       "    <tr>\n",
       "      <th>الأعمال والإدارة والقانون</th>\n",
       "      <td>126</td>\n",
       "      <td>27</td>\n",
       "    </tr>\n",
       "    <tr>\n",
       "      <th>البرامج والمؤهلات العامة</th>\n",
       "      <td>1</td>\n",
       "      <td>1</td>\n",
       "    </tr>\n",
       "    <tr>\n",
       "      <th>التعليم</th>\n",
       "      <td>15</td>\n",
       "      <td>4</td>\n",
       "    </tr>\n",
       "    <tr>\n",
       "      <th>الصحة والرفاة</th>\n",
       "      <td>3</td>\n",
       "      <td>1</td>\n",
       "    </tr>\n",
       "    <tr>\n",
       "      <th>العلوم الاجتماعية والصحافة والإعلام</th>\n",
       "      <td>20</td>\n",
       "      <td>5</td>\n",
       "    </tr>\n",
       "    <tr>\n",
       "      <th>العلوم الطبيعية والرياضيات والإحصاء</th>\n",
       "      <td>56</td>\n",
       "      <td>6</td>\n",
       "    </tr>\n",
       "    <tr>\n",
       "      <th>الفنون والعلوم الإنسانية</th>\n",
       "      <td>31</td>\n",
       "      <td>7</td>\n",
       "    </tr>\n",
       "    <tr>\n",
       "      <th>الهندسة والتصنيع والبناء</th>\n",
       "      <td>34</td>\n",
       "      <td>9</td>\n",
       "    </tr>\n",
       "    <tr>\n",
       "      <th>تكنولوجيا الاتصالات والمعلومات</th>\n",
       "      <td>2018</td>\n",
       "      <td>294</td>\n",
       "    </tr>\n",
       "  </tbody>\n",
       "</table>\n",
       "</div>"
      ],
      "text/plain": [
       "Y                                       0    1\n",
       "College                                       \n",
       "الأعمال والإدارة والقانون             126   27\n",
       "البرامج والمؤهلات العامة                1    1\n",
       "التعليم                                15    4\n",
       "الصحة والرفاة                           3    1\n",
       "العلوم الاجتماعية والصحافة والإعلام    20    5\n",
       "العلوم الطبيعية والرياضيات والإحصاء    56    6\n",
       "الفنون والعلوم الإنسانية               31    7\n",
       "الهندسة والتصنيع والبناء               34    9\n",
       "تكنولوجيا الاتصالات والمعلومات       2018  294"
      ]
     },
     "execution_count": 79,
     "metadata": {},
     "output_type": "execute_result"
    }
   ],
   "source": [
    "College_y_sum"
   ]
  },
  {
   "cell_type": "markdown",
   "metadata": {},
   "source": [
    "2. Completion rates for each Genders\n",
    "-----"
   ]
  },
  {
   "cell_type": "code",
   "execution_count": 80,
   "metadata": {},
   "outputs": [
    {
     "name": "stdout",
     "output_type": "stream",
     "text": [
      "Completetion rates for each Gender\n",
      "ذكر     0.847434\n",
      "أنثى    0.836517\n",
      "dtype: float64\n"
     ]
    }
   ],
   "source": [
    "total_per_gender = gender_y_sum.sum(axis=1)\n",
    "print(f\"Completetion rates for each {(gender_y_sum[0]/total_per_gender).sort_values(ascending=False)}\")"
   ]
  },
  {
   "cell_type": "code",
   "execution_count": 82,
   "metadata": {},
   "outputs": [
    {
     "data": {
      "text/html": [
       "<div>\n",
       "<style scoped>\n",
       "    .dataframe tbody tr th:only-of-type {\n",
       "        vertical-align: middle;\n",
       "    }\n",
       "\n",
       "    .dataframe tbody tr th {\n",
       "        vertical-align: top;\n",
       "    }\n",
       "\n",
       "    .dataframe thead th {\n",
       "        text-align: right;\n",
       "    }\n",
       "</style>\n",
       "<table border=\"1\" class=\"dataframe\">\n",
       "  <thead>\n",
       "    <tr style=\"text-align: right;\">\n",
       "      <th>Y</th>\n",
       "      <th>0</th>\n",
       "      <th>1</th>\n",
       "    </tr>\n",
       "    <tr>\n",
       "      <th>Gender</th>\n",
       "      <th></th>\n",
       "      <th></th>\n",
       "    </tr>\n",
       "  </thead>\n",
       "  <tbody>\n",
       "    <tr>\n",
       "      <th>أنثى</th>\n",
       "      <td>3065</td>\n",
       "      <td>599</td>\n",
       "    </tr>\n",
       "    <tr>\n",
       "      <th>ذكر</th>\n",
       "      <td>2444</td>\n",
       "      <td>440</td>\n",
       "    </tr>\n",
       "  </tbody>\n",
       "</table>\n",
       "</div>"
      ],
      "text/plain": [
       "Y          0    1\n",
       "Gender           \n",
       "أنثى    3065  599\n",
       "ذكر     2444  440"
      ]
     },
     "execution_count": 82,
     "metadata": {},
     "output_type": "execute_result"
    }
   ],
   "source": [
    "gender_y_sum"
   ]
  },
  {
   "cell_type": "markdown",
   "metadata": {},
   "source": [
    "**Insights**\n",
    "* The rates of completion for males 84% and females 83% are similar, with that I can conclude that there's no relation between the Gender and the completion rate"
   ]
  },
  {
   "cell_type": "markdown",
   "metadata": {},
   "source": [
    "3. Completion rates for Program Days\n",
    "-----"
   ]
  },
  {
   "cell_type": "code",
   "execution_count": 83,
   "metadata": {},
   "outputs": [
    {
     "name": "stdout",
     "output_type": "stream",
     "text": [
      "Completetion rates for each Program Days\n",
      "25     1.000000\n",
      "20     1.000000\n",
      "80     1.000000\n",
      "61     1.000000\n",
      "9      1.000000\n",
      "248    1.000000\n",
      "44     0.974026\n",
      "26     0.961415\n",
      "54     0.956685\n",
      "47     0.954545\n",
      "21     0.944444\n",
      "33     0.936000\n",
      "59     0.900000\n",
      "12     0.867178\n",
      "19     0.823529\n",
      "10     0.812500\n",
      "3      0.810811\n",
      "66     0.809524\n",
      "40     0.808081\n",
      "292    0.800000\n",
      "5      0.798070\n",
      "4      0.796460\n",
      "135    0.733333\n",
      "96     0.529412\n",
      "173    0.375000\n",
      "dtype: float64\n"
     ]
    }
   ],
   "source": [
    "total_per_days = Program_Days_y_sum.sum(axis=1)\n",
    "print(f\"Completetion rates for each {(Program_Days_y_sum[0]/total_per_days).sort_values(ascending=False)}\")"
   ]
  },
  {
   "cell_type": "markdown",
   "metadata": {},
   "source": [
    "**Observations**\n",
    "* I notied that Program Days might be high in variance so let's do some math\n"
   ]
  },
  {
   "cell_type": "markdown",
   "metadata": {},
   "source": [
    "The formula for Variance is:\n",
    "\n",
    "$$ \\sigma^2 = \\frac{\\sum\\limits_{i=1}^{N} (x_i - \\mu)^2}{N-1} $$\n",
    "\n",
    "\n"
   ]
  },
  {
   "cell_type": "code",
   "execution_count": 88,
   "metadata": {},
   "outputs": [
    {
     "name": "stdout",
     "output_type": "stream",
     "text": [
      "The variance is: 1031.1844302309537 and the mean is 19.691661576053757\n"
     ]
    }
   ],
   "source": [
    "variance = train_df_c['Program Days'].var()\n",
    "mean = train_df_c['Program Days'].mean()\n",
    "print(f\"The variance is: {variance} and the mean is {mean}\")"
   ]
  },
  {
   "cell_type": "markdown",
   "metadata": {},
   "source": [
    "**Insights**\n",
    "* *Variance* of 1031 is high which means the data is very spread out since the mean is only 19.6\n",
    "* This high variance could affect the model with high noise and over fit it, feature scaling might be important for this feature"
   ]
  }
 ],
 "metadata": {
  "kernelspec": {
   "display_name": "Python 3 (ipykernel)",
   "language": "python",
   "name": "python3"
  },
  "language_info": {
   "codemirror_mode": {
    "name": "ipython",
    "version": 3
   },
   "file_extension": ".py",
   "mimetype": "text/x-python",
   "name": "python",
   "nbconvert_exporter": "python",
   "pygments_lexer": "ipython3",
   "version": "3.11.4"
  }
 },
 "nbformat": 4,
 "nbformat_minor": 2
}
