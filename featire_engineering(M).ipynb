{
 "cells": [
  {
   "cell_type": "markdown",
   "metadata": {},
   "source": [
    "# Training the Model to predict if the student talent is suitable to complete the program."
   ]
  },
  {
   "cell_type": "markdown",
   "metadata": {},
   "source": [
    "## importing libraries needed."
   ]
  },
  {
   "cell_type": "code",
   "execution_count": 88,
   "metadata": {},
   "outputs": [],
   "source": [
    "import pandas as pd \n",
    "import numpy as np\n",
    "import scipy\n",
    "import matplotlib.pyplot as plt\n",
    "from sklearn.preprocessing import LabelEncoder, OneHotEncoder\n",
    "from sklearn.model_selection import train_test_split\n",
    "from xgboost import XGBClassifier\n",
    "import matplotlib.pyplot as plt\n",
    "from sklearn.metrics import accuracy_score\n"
   ]
  },
  {
   "cell_type": "code",
   "execution_count": 89,
   "metadata": {},
   "outputs": [],
   "source": [
    "train_df = pd.read_csv(\"./Dataset/train.csv\")\n",
    "test_df = pd.read_csv(\"./Dataset/test.csv\")"
   ]
  },
  {
   "cell_type": "code",
   "execution_count": 105,
   "metadata": {},
   "outputs": [
    {
     "name": "stdout",
     "output_type": "stream",
     "text": [
      "<class 'pandas.core.frame.DataFrame'>\n",
      "RangeIndex: 818 entries, 0 to 817\n",
      "Data columns (total 23 columns):\n",
      " #   Column                          Non-Null Count  Dtype  \n",
      "---  ------                          --------------  -----  \n",
      " 0   Student ID                      818 non-null    object \n",
      " 1   Age                             804 non-null    float64\n",
      " 2   Gender                          818 non-null    object \n",
      " 3   Home Region                     817 non-null    object \n",
      " 4   Home City                       817 non-null    object \n",
      " 5   Program ID                      818 non-null    object \n",
      " 6   Program Main Category Code      818 non-null    object \n",
      " 7   Program Sub Category Code       703 non-null    object \n",
      " 8   Technology Type                 454 non-null    object \n",
      " 9   Program Skill Level             618 non-null    object \n",
      " 10  Program Presentation Method     818 non-null    object \n",
      " 11  Program Start Date              818 non-null    object \n",
      " 12  Program End Date                818 non-null    object \n",
      " 13  Program Days                    818 non-null    int64  \n",
      " 14  Completed Degree                818 non-null    object \n",
      " 15  Level of Education              815 non-null    object \n",
      " 16  Education Speaciality           781 non-null    object \n",
      " 17  College                         326 non-null    object \n",
      " 18  University Degree Score         807 non-null    float64\n",
      " 19  University Degree Score System  807 non-null    float64\n",
      " 20  Employment Status               748 non-null    object \n",
      " 21  Job Type                        237 non-null    object \n",
      " 22  Still Working                   237 non-null    object \n",
      "dtypes: float64(3), int64(1), object(19)\n",
      "memory usage: 147.1+ KB\n"
     ]
    }
   ],
   "source": [
    "test_df.info()"
   ]
  },
  {
   "cell_type": "code",
   "execution_count": 90,
   "metadata": {},
   "outputs": [
    {
     "name": "stdout",
     "output_type": "stream",
     "text": [
      "<class 'pandas.core.frame.DataFrame'>\n",
      "RangeIndex: 6548 entries, 0 to 6547\n",
      "Data columns (total 24 columns):\n",
      " #   Column                          Non-Null Count  Dtype  \n",
      "---  ------                          --------------  -----  \n",
      " 0   Student ID                      6548 non-null   object \n",
      " 1   Age                             6456 non-null   float64\n",
      " 2   Gender                          6548 non-null   object \n",
      " 3   Home Region                     6546 non-null   object \n",
      " 4   Home City                       6546 non-null   object \n",
      " 5   Program ID                      6548 non-null   object \n",
      " 6   Program Main Category Code      6548 non-null   object \n",
      " 7   Program Sub Category Code       5613 non-null   object \n",
      " 8   Technology Type                 3566 non-null   object \n",
      " 9   Program Skill Level             4902 non-null   object \n",
      " 10  Program Presentation Method     6548 non-null   object \n",
      " 11  Program Start Date              6548 non-null   object \n",
      " 12  Program End Date                6548 non-null   object \n",
      " 13  Program Days                    6548 non-null   int64  \n",
      " 14  Completed Degree                6548 non-null   object \n",
      " 15  Level of Education              6522 non-null   object \n",
      " 16  Education Speaciality           6271 non-null   object \n",
      " 17  College                         2658 non-null   object \n",
      " 18  University Degree Score         6467 non-null   float64\n",
      " 19  University Degree Score System  6467 non-null   float64\n",
      " 20  Employment Status               5982 non-null   object \n",
      " 21  Job Type                        1981 non-null   object \n",
      " 22  Still Working                   1981 non-null   object \n",
      " 23  Y                               6548 non-null   int64  \n",
      "dtypes: float64(3), int64(2), object(19)\n",
      "memory usage: 1.2+ MB\n"
     ]
    }
   ],
   "source": [
    "train_df.info()"
   ]
  },
  {
   "cell_type": "code",
   "execution_count": 91,
   "metadata": {},
   "outputs": [
    {
     "data": {
      "text/html": [
       "<div>\n",
       "<style scoped>\n",
       "    .dataframe tbody tr th:only-of-type {\n",
       "        vertical-align: middle;\n",
       "    }\n",
       "\n",
       "    .dataframe tbody tr th {\n",
       "        vertical-align: top;\n",
       "    }\n",
       "\n",
       "    .dataframe thead th {\n",
       "        text-align: right;\n",
       "    }\n",
       "</style>\n",
       "<table border=\"1\" class=\"dataframe\">\n",
       "  <thead>\n",
       "    <tr style=\"text-align: right;\">\n",
       "      <th></th>\n",
       "      <th>Student ID</th>\n",
       "      <th>Age</th>\n",
       "      <th>Gender</th>\n",
       "      <th>Home Region</th>\n",
       "      <th>Home City</th>\n",
       "      <th>Program ID</th>\n",
       "      <th>Program Main Category Code</th>\n",
       "      <th>Program Sub Category Code</th>\n",
       "      <th>Technology Type</th>\n",
       "      <th>Program Skill Level</th>\n",
       "      <th>...</th>\n",
       "      <th>Completed Degree</th>\n",
       "      <th>Level of Education</th>\n",
       "      <th>Education Speaciality</th>\n",
       "      <th>College</th>\n",
       "      <th>University Degree Score</th>\n",
       "      <th>University Degree Score System</th>\n",
       "      <th>Employment Status</th>\n",
       "      <th>Job Type</th>\n",
       "      <th>Still Working</th>\n",
       "      <th>Y</th>\n",
       "    </tr>\n",
       "  </thead>\n",
       "  <tbody>\n",
       "    <tr>\n",
       "      <th>0</th>\n",
       "      <td>4f14c50d-162e-4a15-9cf0-ec129c33bcf0</td>\n",
       "      <td>37.0</td>\n",
       "      <td>ذكر</td>\n",
       "      <td>منطقة الرياض</td>\n",
       "      <td>الرياض</td>\n",
       "      <td>453686d8-4023-4506-b2df-fac8b059ac26</td>\n",
       "      <td>PCRF</td>\n",
       "      <td>PCRF</td>\n",
       "      <td>NaN</td>\n",
       "      <td>NaN</td>\n",
       "      <td>...</td>\n",
       "      <td>نعم</td>\n",
       "      <td>البكالوريوس</td>\n",
       "      <td>هندسة حاسب الالي</td>\n",
       "      <td>NaN</td>\n",
       "      <td>2.44</td>\n",
       "      <td>4.0</td>\n",
       "      <td>غير موظف</td>\n",
       "      <td>NaN</td>\n",
       "      <td>NaN</td>\n",
       "      <td>0</td>\n",
       "    </tr>\n",
       "    <tr>\n",
       "      <th>1</th>\n",
       "      <td>0599d409-876b-41a5-af05-749ef0e77d32</td>\n",
       "      <td>21.0</td>\n",
       "      <td>ذكر</td>\n",
       "      <td>منطقة عسير</td>\n",
       "      <td>خميس مشيط</td>\n",
       "      <td>cc8e4e42-65d5-4fa1-82f9-6c6c2d508b60</td>\n",
       "      <td>APMR</td>\n",
       "      <td>SWPS</td>\n",
       "      <td>NaN</td>\n",
       "      <td>متوسط</td>\n",
       "      <td>...</td>\n",
       "      <td>نعم</td>\n",
       "      <td>البكالوريوس</td>\n",
       "      <td>الإذاعة والتلفزيون والفيلم</td>\n",
       "      <td>الفنون والعلوم الإنسانية</td>\n",
       "      <td>5.00</td>\n",
       "      <td>5.0</td>\n",
       "      <td>طالب</td>\n",
       "      <td>NaN</td>\n",
       "      <td>NaN</td>\n",
       "      <td>0</td>\n",
       "    </tr>\n",
       "    <tr>\n",
       "      <th>2</th>\n",
       "      <td>38a11c0e-4afc-4261-9c64-e94cc0a272fb</td>\n",
       "      <td>24.0</td>\n",
       "      <td>ذكر</td>\n",
       "      <td>منطقة الرياض</td>\n",
       "      <td>الرياض</td>\n",
       "      <td>e006900d-05a9-4c2b-a36f-0ffb9fce44cd</td>\n",
       "      <td>APMR</td>\n",
       "      <td>NaN</td>\n",
       "      <td>NaN</td>\n",
       "      <td>متوسط</td>\n",
       "      <td>...</td>\n",
       "      <td>نعم</td>\n",
       "      <td>البكالوريوس</td>\n",
       "      <td>Information Technology</td>\n",
       "      <td>NaN</td>\n",
       "      <td>3.50</td>\n",
       "      <td>5.0</td>\n",
       "      <td>موظف</td>\n",
       "      <td>NaN</td>\n",
       "      <td>NaN</td>\n",
       "      <td>0</td>\n",
       "    </tr>\n",
       "    <tr>\n",
       "      <th>3</th>\n",
       "      <td>1693e85b-f80e-40ce-846f-395ddcece6d3</td>\n",
       "      <td>23.0</td>\n",
       "      <td>ذكر</td>\n",
       "      <td>منطقة الرياض</td>\n",
       "      <td>الرياض</td>\n",
       "      <td>2ec15f6b-233b-428a-b9f5-e40bc8d14cf9</td>\n",
       "      <td>TOSL</td>\n",
       "      <td>TOSL</td>\n",
       "      <td>NaN</td>\n",
       "      <td>NaN</td>\n",
       "      <td>...</td>\n",
       "      <td>نعم</td>\n",
       "      <td>البكالوريوس</td>\n",
       "      <td>حوسبة تطبيقية - (مسار شبكات الحاسب)</td>\n",
       "      <td>NaN</td>\n",
       "      <td>3.55</td>\n",
       "      <td>5.0</td>\n",
       "      <td>خريج</td>\n",
       "      <td>NaN</td>\n",
       "      <td>NaN</td>\n",
       "      <td>0</td>\n",
       "    </tr>\n",
       "    <tr>\n",
       "      <th>4</th>\n",
       "      <td>98a0e8d0-5f80-4634-afd8-322aa0902863</td>\n",
       "      <td>23.0</td>\n",
       "      <td>ذكر</td>\n",
       "      <td>منطقة الرياض</td>\n",
       "      <td>الرياض</td>\n",
       "      <td>d32da0e9-1aed-48c3-992d-a22f9ccc741e</td>\n",
       "      <td>CAUF</td>\n",
       "      <td>SWPS</td>\n",
       "      <td>تقليدية</td>\n",
       "      <td>متوسط</td>\n",
       "      <td>...</td>\n",
       "      <td>لا</td>\n",
       "      <td>البكالوريوس</td>\n",
       "      <td>نظم المعلومات الحاسوبية</td>\n",
       "      <td>تكنولوجيا الاتصالات والمعلومات</td>\n",
       "      <td>4.00</td>\n",
       "      <td>5.0</td>\n",
       "      <td>NaN</td>\n",
       "      <td>NaN</td>\n",
       "      <td>NaN</td>\n",
       "      <td>0</td>\n",
       "    </tr>\n",
       "  </tbody>\n",
       "</table>\n",
       "<p>5 rows × 24 columns</p>\n",
       "</div>"
      ],
      "text/plain": [
       "                             Student ID   Age Gender   Home Region  Home City  \\\n",
       "0  4f14c50d-162e-4a15-9cf0-ec129c33bcf0  37.0    ذكر  منطقة الرياض     الرياض   \n",
       "1  0599d409-876b-41a5-af05-749ef0e77d32  21.0    ذكر    منطقة عسير  خميس مشيط   \n",
       "2  38a11c0e-4afc-4261-9c64-e94cc0a272fb  24.0    ذكر  منطقة الرياض     الرياض   \n",
       "3  1693e85b-f80e-40ce-846f-395ddcece6d3  23.0    ذكر  منطقة الرياض     الرياض   \n",
       "4  98a0e8d0-5f80-4634-afd8-322aa0902863  23.0    ذكر  منطقة الرياض     الرياض   \n",
       "\n",
       "                             Program ID Program Main Category Code  \\\n",
       "0  453686d8-4023-4506-b2df-fac8b059ac26                       PCRF   \n",
       "1  cc8e4e42-65d5-4fa1-82f9-6c6c2d508b60                       APMR   \n",
       "2  e006900d-05a9-4c2b-a36f-0ffb9fce44cd                       APMR   \n",
       "3  2ec15f6b-233b-428a-b9f5-e40bc8d14cf9                       TOSL   \n",
       "4  d32da0e9-1aed-48c3-992d-a22f9ccc741e                       CAUF   \n",
       "\n",
       "  Program Sub Category Code Technology Type Program Skill Level  ...  \\\n",
       "0                      PCRF             NaN                 NaN  ...   \n",
       "1                      SWPS             NaN               متوسط  ...   \n",
       "2                       NaN             NaN               متوسط  ...   \n",
       "3                      TOSL             NaN                 NaN  ...   \n",
       "4                      SWPS         تقليدية               متوسط  ...   \n",
       "\n",
       "  Completed Degree Level of Education                Education Speaciality  \\\n",
       "0              نعم        البكالوريوس                     هندسة حاسب الالي   \n",
       "1              نعم        البكالوريوس           الإذاعة والتلفزيون والفيلم   \n",
       "2              نعم        البكالوريوس               Information Technology   \n",
       "3              نعم        البكالوريوس  حوسبة تطبيقية - (مسار شبكات الحاسب)   \n",
       "4               لا        البكالوريوس              نظم المعلومات الحاسوبية   \n",
       "\n",
       "                          College University Degree Score  \\\n",
       "0                             NaN                    2.44   \n",
       "1        الفنون والعلوم الإنسانية                    5.00   \n",
       "2                             NaN                    3.50   \n",
       "3                             NaN                    3.55   \n",
       "4  تكنولوجيا الاتصالات والمعلومات                    4.00   \n",
       "\n",
       "  University Degree Score System Employment Status Job Type  Still Working  Y  \n",
       "0                            4.0          غير موظف      NaN            NaN  0  \n",
       "1                            5.0              طالب      NaN            NaN  0  \n",
       "2                            5.0              موظف      NaN            NaN  0  \n",
       "3                            5.0              خريج      NaN            NaN  0  \n",
       "4                            5.0               NaN      NaN            NaN  0  \n",
       "\n",
       "[5 rows x 24 columns]"
      ]
     },
     "execution_count": 91,
     "metadata": {},
     "output_type": "execute_result"
    }
   ],
   "source": [
    "train_df.head()"
   ]
  },
  {
   "cell_type": "code",
   "execution_count": 92,
   "metadata": {},
   "outputs": [
    {
     "data": {
      "text/html": [
       "<div>\n",
       "<style scoped>\n",
       "    .dataframe tbody tr th:only-of-type {\n",
       "        vertical-align: middle;\n",
       "    }\n",
       "\n",
       "    .dataframe tbody tr th {\n",
       "        vertical-align: top;\n",
       "    }\n",
       "\n",
       "    .dataframe thead th {\n",
       "        text-align: right;\n",
       "    }\n",
       "</style>\n",
       "<table border=\"1\" class=\"dataframe\">\n",
       "  <thead>\n",
       "    <tr style=\"text-align: right;\">\n",
       "      <th></th>\n",
       "      <th>Age</th>\n",
       "      <th>Program Days</th>\n",
       "      <th>University Degree Score</th>\n",
       "      <th>University Degree Score System</th>\n",
       "      <th>Y</th>\n",
       "    </tr>\n",
       "  </thead>\n",
       "  <tbody>\n",
       "    <tr>\n",
       "      <th>count</th>\n",
       "      <td>6456.000000</td>\n",
       "      <td>6548.000000</td>\n",
       "      <td>6467.000000</td>\n",
       "      <td>6467.000000</td>\n",
       "      <td>6548.000000</td>\n",
       "    </tr>\n",
       "    <tr>\n",
       "      <th>mean</th>\n",
       "      <td>26.831165</td>\n",
       "      <td>19.691662</td>\n",
       "      <td>8.224432</td>\n",
       "      <td>9.773929</td>\n",
       "      <td>0.158674</td>\n",
       "    </tr>\n",
       "    <tr>\n",
       "      <th>std</th>\n",
       "      <td>5.535967</td>\n",
       "      <td>32.112061</td>\n",
       "      <td>19.120384</td>\n",
       "      <td>21.259962</td>\n",
       "      <td>0.365400</td>\n",
       "    </tr>\n",
       "    <tr>\n",
       "      <th>min</th>\n",
       "      <td>18.000000</td>\n",
       "      <td>3.000000</td>\n",
       "      <td>0.000000</td>\n",
       "      <td>4.000000</td>\n",
       "      <td>0.000000</td>\n",
       "    </tr>\n",
       "    <tr>\n",
       "      <th>25%</th>\n",
       "      <td>23.000000</td>\n",
       "      <td>5.000000</td>\n",
       "      <td>3.300000</td>\n",
       "      <td>5.000000</td>\n",
       "      <td>0.000000</td>\n",
       "    </tr>\n",
       "    <tr>\n",
       "      <th>50%</th>\n",
       "      <td>25.000000</td>\n",
       "      <td>12.000000</td>\n",
       "      <td>4.000000</td>\n",
       "      <td>5.000000</td>\n",
       "      <td>0.000000</td>\n",
       "    </tr>\n",
       "    <tr>\n",
       "      <th>75%</th>\n",
       "      <td>29.000000</td>\n",
       "      <td>19.000000</td>\n",
       "      <td>4.510000</td>\n",
       "      <td>5.000000</td>\n",
       "      <td>0.000000</td>\n",
       "    </tr>\n",
       "    <tr>\n",
       "      <th>max</th>\n",
       "      <td>57.000000</td>\n",
       "      <td>292.000000</td>\n",
       "      <td>100.000000</td>\n",
       "      <td>100.000000</td>\n",
       "      <td>1.000000</td>\n",
       "    </tr>\n",
       "  </tbody>\n",
       "</table>\n",
       "</div>"
      ],
      "text/plain": [
       "               Age  Program Days  University Degree Score  \\\n",
       "count  6456.000000   6548.000000              6467.000000   \n",
       "mean     26.831165     19.691662                 8.224432   \n",
       "std       5.535967     32.112061                19.120384   \n",
       "min      18.000000      3.000000                 0.000000   \n",
       "25%      23.000000      5.000000                 3.300000   \n",
       "50%      25.000000     12.000000                 4.000000   \n",
       "75%      29.000000     19.000000                 4.510000   \n",
       "max      57.000000    292.000000               100.000000   \n",
       "\n",
       "       University Degree Score System            Y  \n",
       "count                     6467.000000  6548.000000  \n",
       "mean                         9.773929     0.158674  \n",
       "std                         21.259962     0.365400  \n",
       "min                          4.000000     0.000000  \n",
       "25%                          5.000000     0.000000  \n",
       "50%                          5.000000     0.000000  \n",
       "75%                          5.000000     0.000000  \n",
       "max                        100.000000     1.000000  "
      ]
     },
     "execution_count": 92,
     "metadata": {},
     "output_type": "execute_result"
    }
   ],
   "source": [
    "train_df.describe()"
   ]
  },
  {
   "cell_type": "code",
   "execution_count": 93,
   "metadata": {},
   "outputs": [
    {
     "data": {
      "text/plain": [
       "Student ID                           0\n",
       "Age                                 92\n",
       "Gender                               0\n",
       "Home Region                          2\n",
       "Home City                            2\n",
       "Program ID                           0\n",
       "Program Main Category Code           0\n",
       "Program Sub Category Code          935\n",
       "Technology Type                   2982\n",
       "Program Skill Level               1646\n",
       "Program Presentation Method          0\n",
       "Program Start Date                   0\n",
       "Program End Date                     0\n",
       "Program Days                         0\n",
       "Completed Degree                     0\n",
       "Level of Education                  26\n",
       "Education Speaciality              277\n",
       "College                           3890\n",
       "University Degree Score             81\n",
       "University Degree Score System      81\n",
       "Employment Status                  566\n",
       "Job Type                          4567\n",
       "Still Working                     4567\n",
       "Y                                    0\n",
       "dtype: int64"
      ]
     },
     "execution_count": 93,
     "metadata": {},
     "output_type": "execute_result"
    }
   ],
   "source": [
    "train_df.isnull().sum()"
   ]
  },
  {
   "cell_type": "markdown",
   "metadata": {},
   "source": [
    "Checking for duplicates"
   ]
  },
  {
   "cell_type": "code",
   "execution_count": 94,
   "metadata": {},
   "outputs": [
    {
     "data": {
      "text/plain": [
       "48"
      ]
     },
     "execution_count": 94,
     "metadata": {},
     "output_type": "execute_result"
    }
   ],
   "source": [
    "train_df.duplicated().sum()"
   ]
  },
  {
   "cell_type": "code",
   "execution_count": 95,
   "metadata": {},
   "outputs": [],
   "source": [
    "train_df = train_df.drop_duplicates()"
   ]
  },
  {
   "cell_type": "code",
   "execution_count": 96,
   "metadata": {},
   "outputs": [
    {
     "data": {
      "text/plain": [
       "0"
      ]
     },
     "execution_count": 96,
     "metadata": {},
     "output_type": "execute_result"
    }
   ],
   "source": [
    "train_df.duplicated().sum()"
   ]
  },
  {
   "cell_type": "code",
   "execution_count": 97,
   "metadata": {},
   "outputs": [
    {
     "data": {
      "text/plain": [
       "0       2023-05-28\n",
       "1       2023-04-02\n",
       "2       2023-07-23\n",
       "3       2023-07-23\n",
       "4       2023-04-30\n",
       "           ...    \n",
       "6543    2023-04-02\n",
       "6544    2023-05-14\n",
       "6545    2023-07-16\n",
       "6546    2024-01-07\n",
       "6547    2023-03-19\n",
       "Name: Program Start Date, Length: 6500, dtype: object"
      ]
     },
     "execution_count": 97,
     "metadata": {},
     "output_type": "execute_result"
    }
   ],
   "source": [
    "train_df[\"Program Start Date\"]"
   ]
  },
  {
   "cell_type": "code",
   "execution_count": 82,
   "metadata": {},
   "outputs": [],
   "source": [
    "col_to_remove = [\"Program Start Date\", \"Program End Date\"]\n",
    "train_df = train_df.drop(columns=col_to_remove)\n"
   ]
  },
  {
   "cell_type": "code",
   "execution_count": 99,
   "metadata": {},
   "outputs": [],
   "source": [
    "for column in train_df.columns:\n",
    "    if train_df[column].dtype == 'object' or train_df[column].dtype.name == 'category':\n",
    "        encoder = LabelEncoder()\n",
    "        train_df[column] = encoder.fit_transform(train_df[column])\n"
   ]
  },
  {
   "cell_type": "code",
   "execution_count": 100,
   "metadata": {},
   "outputs": [],
   "source": [
    "X = train_df.drop(columns=['Student ID', 'Y'])  # all columns except the last one as features\n",
    "y = train_df[\"Y\"]   # the last column as the target variable\n",
    "\n",
    "\n",
    "X_train, X_test, y_train, y_test = train_test_split(X, y, test_size=0.2, random_state=42)"
   ]
  },
  {
   "cell_type": "code",
   "execution_count": 101,
   "metadata": {},
   "outputs": [
    {
     "data": {
      "text/html": [
       "<style>#sk-container-id-1 {color: black;}#sk-container-id-1 pre{padding: 0;}#sk-container-id-1 div.sk-toggleable {background-color: white;}#sk-container-id-1 label.sk-toggleable__label {cursor: pointer;display: block;width: 100%;margin-bottom: 0;padding: 0.3em;box-sizing: border-box;text-align: center;}#sk-container-id-1 label.sk-toggleable__label-arrow:before {content: \"▸\";float: left;margin-right: 0.25em;color: #696969;}#sk-container-id-1 label.sk-toggleable__label-arrow:hover:before {color: black;}#sk-container-id-1 div.sk-estimator:hover label.sk-toggleable__label-arrow:before {color: black;}#sk-container-id-1 div.sk-toggleable__content {max-height: 0;max-width: 0;overflow: hidden;text-align: left;background-color: #f0f8ff;}#sk-container-id-1 div.sk-toggleable__content pre {margin: 0.2em;color: black;border-radius: 0.25em;background-color: #f0f8ff;}#sk-container-id-1 input.sk-toggleable__control:checked~div.sk-toggleable__content {max-height: 200px;max-width: 100%;overflow: auto;}#sk-container-id-1 input.sk-toggleable__control:checked~label.sk-toggleable__label-arrow:before {content: \"▾\";}#sk-container-id-1 div.sk-estimator input.sk-toggleable__control:checked~label.sk-toggleable__label {background-color: #d4ebff;}#sk-container-id-1 div.sk-label input.sk-toggleable__control:checked~label.sk-toggleable__label {background-color: #d4ebff;}#sk-container-id-1 input.sk-hidden--visually {border: 0;clip: rect(1px 1px 1px 1px);clip: rect(1px, 1px, 1px, 1px);height: 1px;margin: -1px;overflow: hidden;padding: 0;position: absolute;width: 1px;}#sk-container-id-1 div.sk-estimator {font-family: monospace;background-color: #f0f8ff;border: 1px dotted black;border-radius: 0.25em;box-sizing: border-box;margin-bottom: 0.5em;}#sk-container-id-1 div.sk-estimator:hover {background-color: #d4ebff;}#sk-container-id-1 div.sk-parallel-item::after {content: \"\";width: 100%;border-bottom: 1px solid gray;flex-grow: 1;}#sk-container-id-1 div.sk-label:hover label.sk-toggleable__label {background-color: #d4ebff;}#sk-container-id-1 div.sk-serial::before {content: \"\";position: absolute;border-left: 1px solid gray;box-sizing: border-box;top: 0;bottom: 0;left: 50%;z-index: 0;}#sk-container-id-1 div.sk-serial {display: flex;flex-direction: column;align-items: center;background-color: white;padding-right: 0.2em;padding-left: 0.2em;position: relative;}#sk-container-id-1 div.sk-item {position: relative;z-index: 1;}#sk-container-id-1 div.sk-parallel {display: flex;align-items: stretch;justify-content: center;background-color: white;position: relative;}#sk-container-id-1 div.sk-item::before, #sk-container-id-1 div.sk-parallel-item::before {content: \"\";position: absolute;border-left: 1px solid gray;box-sizing: border-box;top: 0;bottom: 0;left: 50%;z-index: -1;}#sk-container-id-1 div.sk-parallel-item {display: flex;flex-direction: column;z-index: 1;position: relative;background-color: white;}#sk-container-id-1 div.sk-parallel-item:first-child::after {align-self: flex-end;width: 50%;}#sk-container-id-1 div.sk-parallel-item:last-child::after {align-self: flex-start;width: 50%;}#sk-container-id-1 div.sk-parallel-item:only-child::after {width: 0;}#sk-container-id-1 div.sk-dashed-wrapped {border: 1px dashed gray;margin: 0 0.4em 0.5em 0.4em;box-sizing: border-box;padding-bottom: 0.4em;background-color: white;}#sk-container-id-1 div.sk-label label {font-family: monospace;font-weight: bold;display: inline-block;line-height: 1.2em;}#sk-container-id-1 div.sk-label-container {text-align: center;}#sk-container-id-1 div.sk-container {/* jupyter's `normalize.less` sets `[hidden] { display: none; }` but bootstrap.min.css set `[hidden] { display: none !important; }` so we also need the `!important` here to be able to override the default hidden behavior on the sphinx rendered scikit-learn.org. See: https://github.com/scikit-learn/scikit-learn/issues/21755 */display: inline-block !important;position: relative;}#sk-container-id-1 div.sk-text-repr-fallback {display: none;}</style><div id=\"sk-container-id-1\" class=\"sk-top-container\"><div class=\"sk-text-repr-fallback\"><pre>XGBClassifier(base_score=None, booster=None, callbacks=None,\n",
       "              colsample_bylevel=None, colsample_bynode=None,\n",
       "              colsample_bytree=None, device=None, early_stopping_rounds=None,\n",
       "              enable_categorical=False, eval_metric=None, feature_types=None,\n",
       "              gamma=None, grow_policy=None, importance_type=None,\n",
       "              interaction_constraints=None, learning_rate=None, max_bin=None,\n",
       "              max_cat_threshold=None, max_cat_to_onehot=None,\n",
       "              max_delta_step=None, max_depth=None, max_leaves=None,\n",
       "              min_child_weight=None, missing=nan, monotone_constraints=None,\n",
       "              multi_strategy=None, n_estimators=None, n_jobs=None,\n",
       "              num_parallel_tree=None, random_state=None, ...)</pre><b>In a Jupyter environment, please rerun this cell to show the HTML representation or trust the notebook. <br />On GitHub, the HTML representation is unable to render, please try loading this page with nbviewer.org.</b></div><div class=\"sk-container\" hidden><div class=\"sk-item\"><div class=\"sk-estimator sk-toggleable\"><input class=\"sk-toggleable__control sk-hidden--visually\" id=\"sk-estimator-id-1\" type=\"checkbox\" checked><label for=\"sk-estimator-id-1\" class=\"sk-toggleable__label sk-toggleable__label-arrow\">XGBClassifier</label><div class=\"sk-toggleable__content\"><pre>XGBClassifier(base_score=None, booster=None, callbacks=None,\n",
       "              colsample_bylevel=None, colsample_bynode=None,\n",
       "              colsample_bytree=None, device=None, early_stopping_rounds=None,\n",
       "              enable_categorical=False, eval_metric=None, feature_types=None,\n",
       "              gamma=None, grow_policy=None, importance_type=None,\n",
       "              interaction_constraints=None, learning_rate=None, max_bin=None,\n",
       "              max_cat_threshold=None, max_cat_to_onehot=None,\n",
       "              max_delta_step=None, max_depth=None, max_leaves=None,\n",
       "              min_child_weight=None, missing=nan, monotone_constraints=None,\n",
       "              multi_strategy=None, n_estimators=None, n_jobs=None,\n",
       "              num_parallel_tree=None, random_state=None, ...)</pre></div></div></div></div></div>"
      ],
      "text/plain": [
       "XGBClassifier(base_score=None, booster=None, callbacks=None,\n",
       "              colsample_bylevel=None, colsample_bynode=None,\n",
       "              colsample_bytree=None, device=None, early_stopping_rounds=None,\n",
       "              enable_categorical=False, eval_metric=None, feature_types=None,\n",
       "              gamma=None, grow_policy=None, importance_type=None,\n",
       "              interaction_constraints=None, learning_rate=None, max_bin=None,\n",
       "              max_cat_threshold=None, max_cat_to_onehot=None,\n",
       "              max_delta_step=None, max_depth=None, max_leaves=None,\n",
       "              min_child_weight=None, missing=nan, monotone_constraints=None,\n",
       "              multi_strategy=None, n_estimators=None, n_jobs=None,\n",
       "              num_parallel_tree=None, random_state=None, ...)"
      ]
     },
     "execution_count": 101,
     "metadata": {},
     "output_type": "execute_result"
    }
   ],
   "source": [
    "model = XGBClassifier()\n",
    "\n",
    "\n",
    "model.fit(X_train, y_train)"
   ]
  },
  {
   "cell_type": "code",
   "execution_count": 102,
   "metadata": {},
   "outputs": [],
   "source": [
    "# Making predictions\n",
    "y_pred = model.predict(X_test)"
   ]
  },
  {
   "cell_type": "code",
   "execution_count": 103,
   "metadata": {},
   "outputs": [
    {
     "name": "stdout",
     "output_type": "stream",
     "text": [
      "Accuracy: 0.8761538461538462\n",
      "Precision: 0.6049382716049383\n",
      "Recall: 0.5025641025641026\n",
      "F1 Score: 0.5490196078431373\n"
     ]
    }
   ],
   "source": [
    "from sklearn.metrics import accuracy_score, precision_score, recall_score, f1_score\n",
    "\n",
    "# Calculate metrics\n",
    "accuracy = accuracy_score(y_test, y_pred)\n",
    "precision = precision_score(y_test, y_pred, average='binary')\n",
    "recall = recall_score(y_test, y_pred, average='binary')\n",
    "f1 = f1_score(y_test, y_pred, average='binary')\n",
    "\n",
    "print(f\"Accuracy: {accuracy}\")\n",
    "print(f\"Precision: {precision}\")\n",
    "print(f\"Recall: {recall}\")\n",
    "print(f\"F1 Score: {f1}\")"
   ]
  },
  {
   "cell_type": "code",
   "execution_count": null,
   "metadata": {},
   "outputs": [],
   "source": []
  }
 ],
 "metadata": {
  "kernelspec": {
   "display_name": "ai",
   "language": "python",
   "name": "python3"
  },
  "language_info": {
   "codemirror_mode": {
    "name": "ipython",
    "version": 3
   },
   "file_extension": ".py",
   "mimetype": "text/x-python",
   "name": "python",
   "nbconvert_exporter": "python",
   "pygments_lexer": "ipython3",
   "version": "3.11.5"
  }
 },
 "nbformat": 4,
 "nbformat_minor": 2
}
